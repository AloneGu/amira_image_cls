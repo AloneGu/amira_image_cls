{
 "cells": [
  {
   "cell_type": "code",
   "execution_count": null,
   "metadata": {},
   "outputs": [
    {
     "name": "stdout",
     "output_type": "stream",
     "text": [
      "(292, 224, 224, 3) dog\n"
     ]
    },
    {
     "name": "stderr",
     "output_type": "stream",
     "text": [
      "Using TensorFlow backend.\n"
     ]
    }
   ],
   "source": [
    "import os\n",
    "import ast\n",
    "import glob\n",
    "from scipy.misc import imread, imresize\n",
    "import numpy as np\n",
    "from sklearn.utils import shuffle\n",
    "data_dir = '../data/dog_vs_cat'\n",
    "\n",
    "def data_load(data_dir_path, img_height, img_width):\n",
    "    \"\"\"\n",
    "\n",
    "    :param data_dir_path: data home dir\n",
    "    :return: x, y    x is image content, y is category name\n",
    "    \"\"\"\n",
    "    data_dir = data_dir_path\n",
    "    subdirs = [os.path.join(data_dir, x) for x in os.listdir(data_dir)]\n",
    "    x, y = [], []\n",
    "    for cls in subdirs:\n",
    "        imgs = glob.glob(os.path.join(cls, '*'))\n",
    "        tmp_y = os.path.split(cls)[-1]\n",
    "        for img_path in imgs:\n",
    "            x.append(imresize(imread(img_path), (img_height, img_width)))\n",
    "            y.append(tmp_y)\n",
    "    return shuffle(np.array(x), y)\n",
    "\n",
    "org_x,org_y = data_load(data_dir,224,224)\n",
    "print(org_x.shape,org_y[0])\n",
    "from keras.utils import to_categorical\n",
    "from sklearn.preprocessing import LabelEncoder\n",
    "encoder = LabelEncoder()\n",
    "cate_y = to_categorical(encoder.fit_transform(org_y))"
   ]
  },
  {
   "cell_type": "code",
   "execution_count": null,
   "metadata": {},
   "outputs": [
    {
     "name": "stdout",
     "output_type": "stream",
     "text": [
      "Train on 233 samples, validate on 59 samples\n",
      "Epoch 1/10\n",
      " 96/233 [===========>..................] - ETA: 833s - loss: 4.5988 - acc: 0.5104 "
     ]
    }
   ],
   "source": [
    "from keras.applications import vgg16, vgg19\n",
    "model = vgg16.VGG16(input_shape=(224,224,3),weights=None,classes=2)\n",
    "model.compile(loss='categorical_crossentropy',\n",
    "                      optimizer='rmsprop',\n",
    "                      metrics=['accuracy'])\n",
    "model.fit(org_x,cate_y,validation_split=0.2,verbose=1,epochs=10)"
   ]
  },
  {
   "cell_type": "code",
   "execution_count": null,
   "metadata": {
    "collapsed": true
   },
   "outputs": [],
   "source": [
    "model = vgg19.VGG19(input_shape=(224,224,3),weights=None,classes=2)\n",
    "model.compile(loss='categorical_crossentropy',\n",
    "                      optimizer='rmsprop',\n",
    "                      metrics=['accuracy'])\n",
    "model.fit(org_x,cate_y,validation_split=0.2,verbose=1,epochs=10)"
   ]
  }
 ],
 "metadata": {
  "kernelspec": {
   "display_name": "Python 3",
   "language": "python",
   "name": "python3"
  },
  "language_info": {
   "codemirror_mode": {
    "name": "ipython",
    "version": 3
   },
   "file_extension": ".py",
   "mimetype": "text/x-python",
   "name": "python",
   "nbconvert_exporter": "python",
   "pygments_lexer": "ipython3",
   "version": "3.5.2"
  }
 },
 "nbformat": 4,
 "nbformat_minor": 2
}
