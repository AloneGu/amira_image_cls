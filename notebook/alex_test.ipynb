{
 "cells": [
  {
   "cell_type": "code",
   "execution_count": 1,
   "metadata": {},
   "outputs": [
    {
     "name": "stdout",
     "output_type": "stream",
     "text": [
      "(292, 224, 224, 3) dog\n"
     ]
    }
   ],
   "source": [
    "import os\n",
    "import ast\n",
    "import glob\n",
    "from scipy.misc import imread, imresize\n",
    "import numpy as np\n",
    "\n",
    "data_dir = '../data/dog_vs_cat'\n",
    "\n",
    "def data_load(data_dir_path, img_height, img_width):\n",
    "    \"\"\"\n",
    "\n",
    "    :param data_dir_path: data home dir\n",
    "    :return: x, y    x is image content, y is category name\n",
    "    \"\"\"\n",
    "    data_dir = data_dir_path\n",
    "    subdirs = [os.path.join(data_dir, x) for x in os.listdir(data_dir)]\n",
    "    x, y = [], []\n",
    "    for cls in subdirs:\n",
    "        imgs = glob.glob(os.path.join(cls, '*'))\n",
    "        tmp_y = os.path.split(cls)[-1]\n",
    "        for img_path in imgs:\n",
    "            x.append(imresize(imread(img_path), (img_height, img_width)))\n",
    "            y.append(tmp_y)\n",
    "    return np.array(x), y\n",
    "\n",
    "org_x,org_y = data_load(data_dir,224,224)\n",
    "print(org_x.shape,org_y[0])"
   ]
  },
  {
   "cell_type": "code",
   "execution_count": 2,
   "metadata": {},
   "outputs": [
    {
     "name": "stderr",
     "output_type": "stream",
     "text": [
      "Using TensorFlow backend.\n"
     ]
    },
    {
     "name": "stdout",
     "output_type": "stream",
     "text": [
      "<keras.models.Sequential object at 0x7f4e87bf7b00>\n"
     ]
    }
   ],
   "source": [
    "from keras.models import Sequential\n",
    "from keras.layers.core import Dense, Dropout, Activation, Flatten, Reshape\n",
    "from keras.layers import Conv2D, MaxPooling2D\n",
    "\n",
    "\n",
    "\n",
    "# AlexNet with batch normalization in Keras\n",
    "# input image is 224x224\n",
    "\n",
    "class AlexNet(object):\n",
    "    def __init__(self, h, w, num_class):\n",
    "        self.h = h\n",
    "        self.w = w\n",
    "        self.num_class = num_class\n",
    "\n",
    "    def get_model(self):\n",
    "        model = Sequential()\n",
    "\n",
    "        model.add(Conv2D(64, kernel_size=11, input_shape=(self.h, self.w, 3), strides=4, padding='valid'))\n",
    "        model.add(Activation('relu'))\n",
    "        model.add(MaxPooling2D(pool_size=(3, 3), strides=2))\n",
    "\n",
    "        model.add(Conv2D(192, kernel_size=5,padding='valid'))\n",
    "        model.add(Activation('relu'))\n",
    "        model.add(MaxPooling2D(pool_size=(2, 2)))\n",
    "\n",
    "        model.add(Conv2D(384, kernel_size=3, padding='valid'))\n",
    "        model.add(Activation('relu'))\n",
    "        model.add(MaxPooling2D(pool_size=(2, 2)))\n",
    "\n",
    "        model.add(Conv2D(256, kernel_size=3, padding='valid'))\n",
    "        model.add(Activation('relu'))\n",
    "        model.add(MaxPooling2D(pool_size=(2, 2)))\n",
    "\n",
    "        model.add(Flatten())\n",
    "        model.add(Dense(4096))\n",
    "        model.add(Activation('relu'))\n",
    "        model.add(Dense(4096))\n",
    "        model.add(Activation('relu'))\n",
    "        model.add(Dense(self.num_class, activation='softmax'))\n",
    "\n",
    "        model.compile(loss='categorical_crossentropy',\n",
    "                      optimizer='rmsprop',\n",
    "                      metrics=['accuracy'])\n",
    "\n",
    "        return model\n",
    "\n",
    "net = AlexNet(224,224,2)\n",
    "model = net.get_model()\n",
    "print(model)"
   ]
  },
  {
   "cell_type": "code",
   "execution_count": 3,
   "metadata": {},
   "outputs": [
    {
     "name": "stdout",
     "output_type": "stream",
     "text": [
      "Train on 233 samples, validate on 59 samples\n",
      "Epoch 1/3\n",
      "233/233 [==============================] - 36s - loss: 6.2007 - acc: 0.5365 - val_loss: 16.1181 - val_acc: 0.0000e+00\n",
      "Epoch 2/3\n",
      "233/233 [==============================] - 34s - loss: 6.6409 - acc: 0.5880 - val_loss: 16.1181 - val_acc: 0.0000e+00\n",
      "Epoch 3/3\n",
      "233/233 [==============================] - 33s - loss: 6.6409 - acc: 0.5880 - val_loss: 16.1181 - val_acc: 0.0000e+00\n"
     ]
    },
    {
     "data": {
      "text/plain": [
       "<keras.callbacks.History at 0x7f4e79e88f98>"
      ]
     },
     "execution_count": 3,
     "metadata": {},
     "output_type": "execute_result"
    }
   ],
   "source": [
    "from keras.utils import to_categorical\n",
    "from sklearn.preprocessing import LabelEncoder\n",
    "encoder = LabelEncoder()\n",
    "cate_y = to_categorical(encoder.fit_transform(org_y))\n",
    "model.fit(org_x,cate_y,validation_split=0.2,verbose=1,epochs=3)"
   ]
  },
  {
   "cell_type": "code",
   "execution_count": 4,
   "metadata": {},
   "outputs": [
    {
     "name": "stdout",
     "output_type": "stream",
     "text": [
      "[[ 0.  1.]\n",
      " [ 0.  1.]\n",
      " [ 0.  1.]\n",
      " [ 0.  1.]\n",
      " [ 0.  1.]\n",
      " [ 0.  1.]\n",
      " [ 0.  1.]\n",
      " [ 0.  1.]\n",
      " [ 0.  1.]\n",
      " [ 0.  1.]]\n",
      "dog 1.0 cat\n"
     ]
    }
   ],
   "source": [
    "res = model.predict(org_x[:10])\n",
    "print(res)\n",
    "class_type = np.argmax(res[0])\n",
    "prob = max(res[0])\n",
    "print(encoder.inverse_transform(class_type), prob, encoder.inverse_transform(0))"
   ]
  },
  {
   "cell_type": "markdown",
   "metadata": {},
   "source": [
    "from keras.preprocessing.image import ImageDataGenerator\n",
    "datagen = ImageDataGenerator(\n",
    "        featurewise_center=False,  # set input mean to 0 over the dataset\n",
    "        samplewise_center=False,  # set each sample mean to 0\n",
    "        featurewise_std_normalization=False,  # divide inputs by std of the dataset\n",
    "        samplewise_std_normalization=False,  # divide each input by its std\n",
    "        zca_whitening=False,  # apply ZCA whitening\n",
    "        rotation_range=0,  # randomly rotate images in the range (degrees, 0 to 180)\n",
    "        width_shift_range=0.1,  # randomly shift images horizontally (fraction of total width)\n",
    "        height_shift_range=0.1,  # randomly shift images vertically (fraction of total height)\n",
    "        horizontal_flip=True,  # randomly flip images\n",
    "        vertical_flip=True)  # randomly flip images\n",
    "model.fit_generator(datagen.flow(org_x,cate_y),steps_per_epoch=32, epochs=10,verbose=1)"
   ]
  }
 ],
 "metadata": {
  "kernelspec": {
   "display_name": "Python 3",
   "language": "python",
   "name": "python3"
  },
  "language_info": {
   "codemirror_mode": {
    "name": "ipython",
    "version": 3
   },
   "file_extension": ".py",
   "mimetype": "text/x-python",
   "name": "python",
   "nbconvert_exporter": "python",
   "pygments_lexer": "ipython3",
   "version": "3.5.2"
  }
 },
 "nbformat": 4,
 "nbformat_minor": 2
}
